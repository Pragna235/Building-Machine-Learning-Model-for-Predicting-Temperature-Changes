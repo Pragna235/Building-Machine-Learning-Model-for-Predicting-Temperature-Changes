{
  "nbformat": 4,
  "nbformat_minor": 0,
  "metadata": {
    "colab": {
      "provenance": [],
      "authorship_tag": "ABX9TyNbmgt3CXiOsN8KBC3CmNgv",
      "include_colab_link": true
    },
    "kernelspec": {
      "name": "python3",
      "display_name": "Python 3"
    },
    "language_info": {
      "name": "python"
    }
  },
  "cells": [
    {
      "cell_type": "markdown",
      "metadata": {
        "id": "view-in-github",
        "colab_type": "text"
      },
      "source": [
        "<a href=\"https://colab.research.google.com/github/Pragna235/Building-Machine-Learning-Model-for-Predicting-Temperature-Changes/blob/main/Supervised_Learning_by_using_differenct_cost_functions.ipynb\" target=\"_parent\"><img src=\"https://colab.research.google.com/assets/colab-badge.svg\" alt=\"Open In Colab\"/></a>"
      ]
    },
    {
      "cell_type": "markdown",
      "source": [
        "#Exercise: Supervised learning by using different cost functions#\n",
        "In this exercise, we'll have a deeper look at how cost functions can change:\n",
        "\n",
        "* How well models appear to have fit data.\n",
        "* The kinds of relationships a model represents.\n",
        "#Loading the data\n",
        "Let's start by loading the data. To make this exercise simpler, we'll use only a few datapoints this time."
      ],
      "metadata": {
        "id": "JAN33wJ-2mPl"
      }
    },
    {
      "cell_type": "code",
      "execution_count": 1,
      "metadata": {
        "id": "8xNmiNmU2Wpv",
        "colab": {
          "base_uri": "https://localhost:8080/",
          "height": 910
        },
        "outputId": "41798059-f425-47bb-c459-b234e07ad775"
      },
      "outputs": [
        {
          "output_type": "stream",
          "name": "stdout",
          "text": [
            "--2023-07-21 23:49:06--  https://raw.githubusercontent.com/MicrosoftDocs/mslearn-introduction-to-machine-learning/main/graphing.py\n",
            "Resolving raw.githubusercontent.com (raw.githubusercontent.com)... 185.199.109.133, 185.199.110.133, 185.199.111.133, ...\n",
            "Connecting to raw.githubusercontent.com (raw.githubusercontent.com)|185.199.109.133|:443... connected.\n",
            "HTTP request sent, awaiting response... 200 OK\n",
            "Length: 21511 (21K) [text/plain]\n",
            "Saving to: ‘graphing.py’\n",
            "\n",
            "\rgraphing.py           0%[                    ]       0  --.-KB/s               \rgraphing.py         100%[===================>]  21.01K  --.-KB/s    in 0.005s  \n",
            "\n",
            "2023-07-21 23:49:06 (4.05 MB/s) - ‘graphing.py’ saved [21511/21511]\n",
            "\n",
            "--2023-07-21 23:49:06--  https://raw.githubusercontent.com/MicrosoftDocs/mslearn-introduction-to-machine-learning/main/microsoft_custom_linear_regressor.py\n",
            "Resolving raw.githubusercontent.com (raw.githubusercontent.com)... 185.199.108.133, 185.199.109.133, 185.199.110.133, ...\n",
            "Connecting to raw.githubusercontent.com (raw.githubusercontent.com)|185.199.108.133|:443... connected.\n",
            "HTTP request sent, awaiting response... 200 OK\n",
            "Length: 2167 (2.1K) [text/plain]\n",
            "Saving to: ‘microsoft_custom_linear_regressor.py’\n",
            "\n",
            "microsoft_custom_li 100%[===================>]   2.12K  --.-KB/s    in 0s      \n",
            "\n",
            "2023-07-21 23:49:06 (42.1 MB/s) - ‘microsoft_custom_linear_regressor.py’ saved [2167/2167]\n",
            "\n",
            "--2023-07-21 23:49:06--  https://raw.githubusercontent.com/MicrosoftDocs/mslearn-introduction-to-machine-learning/main/Data/seattleWeather_1948-2017.csv\n",
            "Resolving raw.githubusercontent.com (raw.githubusercontent.com)... 185.199.108.133, 185.199.109.133, 185.199.111.133, ...\n",
            "Connecting to raw.githubusercontent.com (raw.githubusercontent.com)|185.199.108.133|:443... connected.\n",
            "HTTP request sent, awaiting response... 200 OK\n",
            "Length: 762017 (744K) [text/plain]\n",
            "Saving to: ‘seattleWeather_1948-2017.csv’\n",
            "\n",
            "seattleWeather_1948 100%[===================>] 744.16K  --.-KB/s    in 0.05s   \n",
            "\n",
            "2023-07-21 23:49:06 (14.2 MB/s) - ‘seattleWeather_1948-2017.csv’ saved [762017/762017]\n",
            "\n"
          ]
        },
        {
          "output_type": "execute_result",
          "data": {
            "text/plain": [
              "            date  amount_of_precipitation  max_temperature  min_temperature  \\\n",
              "762   1950-02-01                     0.00               27                1   \n",
              "4414  1960-02-01                     0.15               52               44   \n",
              "8067  1970-02-01                     0.00               50               42   \n",
              "11719 1980-02-01                     0.37               54               36   \n",
              "15372 1990-02-01                     0.08               45               37   \n",
              "19024 2000-02-01                     1.34               49               41   \n",
              "22677 2010-02-01                     0.08               49               40   \n",
              "25234 2017-02-01                     0.00               43               29   \n",
              "\n",
              "        rain         year  \n",
              "762    False  1950.087611  \n",
              "4414    True  1960.087611  \n",
              "8067   False  1970.087611  \n",
              "11719   True  1980.087611  \n",
              "15372   True  1990.087611  \n",
              "19024   True  2000.087611  \n",
              "22677   True  2010.087611  \n",
              "25234  False  2017.087611  "
            ],
            "text/html": [
              "\n",
              "\n",
              "  <div id=\"df-8cf84722-8219-4a83-92db-96f40e9200fe\">\n",
              "    <div class=\"colab-df-container\">\n",
              "      <div>\n",
              "<style scoped>\n",
              "    .dataframe tbody tr th:only-of-type {\n",
              "        vertical-align: middle;\n",
              "    }\n",
              "\n",
              "    .dataframe tbody tr th {\n",
              "        vertical-align: top;\n",
              "    }\n",
              "\n",
              "    .dataframe thead th {\n",
              "        text-align: right;\n",
              "    }\n",
              "</style>\n",
              "<table border=\"1\" class=\"dataframe\">\n",
              "  <thead>\n",
              "    <tr style=\"text-align: right;\">\n",
              "      <th></th>\n",
              "      <th>date</th>\n",
              "      <th>amount_of_precipitation</th>\n",
              "      <th>max_temperature</th>\n",
              "      <th>min_temperature</th>\n",
              "      <th>rain</th>\n",
              "      <th>year</th>\n",
              "    </tr>\n",
              "  </thead>\n",
              "  <tbody>\n",
              "    <tr>\n",
              "      <th>762</th>\n",
              "      <td>1950-02-01</td>\n",
              "      <td>0.00</td>\n",
              "      <td>27</td>\n",
              "      <td>1</td>\n",
              "      <td>False</td>\n",
              "      <td>1950.087611</td>\n",
              "    </tr>\n",
              "    <tr>\n",
              "      <th>4414</th>\n",
              "      <td>1960-02-01</td>\n",
              "      <td>0.15</td>\n",
              "      <td>52</td>\n",
              "      <td>44</td>\n",
              "      <td>True</td>\n",
              "      <td>1960.087611</td>\n",
              "    </tr>\n",
              "    <tr>\n",
              "      <th>8067</th>\n",
              "      <td>1970-02-01</td>\n",
              "      <td>0.00</td>\n",
              "      <td>50</td>\n",
              "      <td>42</td>\n",
              "      <td>False</td>\n",
              "      <td>1970.087611</td>\n",
              "    </tr>\n",
              "    <tr>\n",
              "      <th>11719</th>\n",
              "      <td>1980-02-01</td>\n",
              "      <td>0.37</td>\n",
              "      <td>54</td>\n",
              "      <td>36</td>\n",
              "      <td>True</td>\n",
              "      <td>1980.087611</td>\n",
              "    </tr>\n",
              "    <tr>\n",
              "      <th>15372</th>\n",
              "      <td>1990-02-01</td>\n",
              "      <td>0.08</td>\n",
              "      <td>45</td>\n",
              "      <td>37</td>\n",
              "      <td>True</td>\n",
              "      <td>1990.087611</td>\n",
              "    </tr>\n",
              "    <tr>\n",
              "      <th>19024</th>\n",
              "      <td>2000-02-01</td>\n",
              "      <td>1.34</td>\n",
              "      <td>49</td>\n",
              "      <td>41</td>\n",
              "      <td>True</td>\n",
              "      <td>2000.087611</td>\n",
              "    </tr>\n",
              "    <tr>\n",
              "      <th>22677</th>\n",
              "      <td>2010-02-01</td>\n",
              "      <td>0.08</td>\n",
              "      <td>49</td>\n",
              "      <td>40</td>\n",
              "      <td>True</td>\n",
              "      <td>2010.087611</td>\n",
              "    </tr>\n",
              "    <tr>\n",
              "      <th>25234</th>\n",
              "      <td>2017-02-01</td>\n",
              "      <td>0.00</td>\n",
              "      <td>43</td>\n",
              "      <td>29</td>\n",
              "      <td>False</td>\n",
              "      <td>2017.087611</td>\n",
              "    </tr>\n",
              "  </tbody>\n",
              "</table>\n",
              "</div>\n",
              "      <button class=\"colab-df-convert\" onclick=\"convertToInteractive('df-8cf84722-8219-4a83-92db-96f40e9200fe')\"\n",
              "              title=\"Convert this dataframe to an interactive table.\"\n",
              "              style=\"display:none;\">\n",
              "\n",
              "  <svg xmlns=\"http://www.w3.org/2000/svg\" height=\"24px\"viewBox=\"0 0 24 24\"\n",
              "       width=\"24px\">\n",
              "    <path d=\"M0 0h24v24H0V0z\" fill=\"none\"/>\n",
              "    <path d=\"M18.56 5.44l.94 2.06.94-2.06 2.06-.94-2.06-.94-.94-2.06-.94 2.06-2.06.94zm-11 1L8.5 8.5l.94-2.06 2.06-.94-2.06-.94L8.5 2.5l-.94 2.06-2.06.94zm10 10l.94 2.06.94-2.06 2.06-.94-2.06-.94-.94-2.06-.94 2.06-2.06.94z\"/><path d=\"M17.41 7.96l-1.37-1.37c-.4-.4-.92-.59-1.43-.59-.52 0-1.04.2-1.43.59L10.3 9.45l-7.72 7.72c-.78.78-.78 2.05 0 2.83L4 21.41c.39.39.9.59 1.41.59.51 0 1.02-.2 1.41-.59l7.78-7.78 2.81-2.81c.8-.78.8-2.07 0-2.86zM5.41 20L4 18.59l7.72-7.72 1.47 1.35L5.41 20z\"/>\n",
              "  </svg>\n",
              "      </button>\n",
              "\n",
              "\n",
              "\n",
              "    <div id=\"df-79728b3e-cf86-41a7-a99e-01e2bb79c297\">\n",
              "      <button class=\"colab-df-quickchart\" onclick=\"quickchart('df-79728b3e-cf86-41a7-a99e-01e2bb79c297')\"\n",
              "              title=\"Suggest charts.\"\n",
              "              style=\"display:none;\">\n",
              "\n",
              "<svg xmlns=\"http://www.w3.org/2000/svg\" height=\"24px\"viewBox=\"0 0 24 24\"\n",
              "     width=\"24px\">\n",
              "    <g>\n",
              "        <path d=\"M19 3H5c-1.1 0-2 .9-2 2v14c0 1.1.9 2 2 2h14c1.1 0 2-.9 2-2V5c0-1.1-.9-2-2-2zM9 17H7v-7h2v7zm4 0h-2V7h2v10zm4 0h-2v-4h2v4z\"/>\n",
              "    </g>\n",
              "</svg>\n",
              "      </button>\n",
              "    </div>\n",
              "\n",
              "<style>\n",
              "  .colab-df-quickchart {\n",
              "    background-color: #E8F0FE;\n",
              "    border: none;\n",
              "    border-radius: 50%;\n",
              "    cursor: pointer;\n",
              "    display: none;\n",
              "    fill: #1967D2;\n",
              "    height: 32px;\n",
              "    padding: 0 0 0 0;\n",
              "    width: 32px;\n",
              "  }\n",
              "\n",
              "  .colab-df-quickchart:hover {\n",
              "    background-color: #E2EBFA;\n",
              "    box-shadow: 0px 1px 2px rgba(60, 64, 67, 0.3), 0px 1px 3px 1px rgba(60, 64, 67, 0.15);\n",
              "    fill: #174EA6;\n",
              "  }\n",
              "\n",
              "  [theme=dark] .colab-df-quickchart {\n",
              "    background-color: #3B4455;\n",
              "    fill: #D2E3FC;\n",
              "  }\n",
              "\n",
              "  [theme=dark] .colab-df-quickchart:hover {\n",
              "    background-color: #434B5C;\n",
              "    box-shadow: 0px 1px 3px 1px rgba(0, 0, 0, 0.15);\n",
              "    filter: drop-shadow(0px 1px 2px rgba(0, 0, 0, 0.3));\n",
              "    fill: #FFFFFF;\n",
              "  }\n",
              "</style>\n",
              "\n",
              "    <script>\n",
              "      async function quickchart(key) {\n",
              "        const containerElement = document.querySelector('#' + key);\n",
              "        const charts = await google.colab.kernel.invokeFunction(\n",
              "            'suggestCharts', [key], {});\n",
              "      }\n",
              "    </script>\n",
              "\n",
              "      <script>\n",
              "\n",
              "function displayQuickchartButton(domScope) {\n",
              "  let quickchartButtonEl =\n",
              "    domScope.querySelector('#df-79728b3e-cf86-41a7-a99e-01e2bb79c297 button.colab-df-quickchart');\n",
              "  quickchartButtonEl.style.display =\n",
              "    google.colab.kernel.accessAllowed ? 'block' : 'none';\n",
              "}\n",
              "\n",
              "        displayQuickchartButton(document);\n",
              "      </script>\n",
              "      <style>\n",
              "    .colab-df-container {\n",
              "      display:flex;\n",
              "      flex-wrap:wrap;\n",
              "      gap: 12px;\n",
              "    }\n",
              "\n",
              "    .colab-df-convert {\n",
              "      background-color: #E8F0FE;\n",
              "      border: none;\n",
              "      border-radius: 50%;\n",
              "      cursor: pointer;\n",
              "      display: none;\n",
              "      fill: #1967D2;\n",
              "      height: 32px;\n",
              "      padding: 0 0 0 0;\n",
              "      width: 32px;\n",
              "    }\n",
              "\n",
              "    .colab-df-convert:hover {\n",
              "      background-color: #E2EBFA;\n",
              "      box-shadow: 0px 1px 2px rgba(60, 64, 67, 0.3), 0px 1px 3px 1px rgba(60, 64, 67, 0.15);\n",
              "      fill: #174EA6;\n",
              "    }\n",
              "\n",
              "    [theme=dark] .colab-df-convert {\n",
              "      background-color: #3B4455;\n",
              "      fill: #D2E3FC;\n",
              "    }\n",
              "\n",
              "    [theme=dark] .colab-df-convert:hover {\n",
              "      background-color: #434B5C;\n",
              "      box-shadow: 0px 1px 3px 1px rgba(0, 0, 0, 0.15);\n",
              "      filter: drop-shadow(0px 1px 2px rgba(0, 0, 0, 0.3));\n",
              "      fill: #FFFFFF;\n",
              "    }\n",
              "  </style>\n",
              "\n",
              "      <script>\n",
              "        const buttonEl =\n",
              "          document.querySelector('#df-8cf84722-8219-4a83-92db-96f40e9200fe button.colab-df-convert');\n",
              "        buttonEl.style.display =\n",
              "          google.colab.kernel.accessAllowed ? 'block' : 'none';\n",
              "\n",
              "        async function convertToInteractive(key) {\n",
              "          const element = document.querySelector('#df-8cf84722-8219-4a83-92db-96f40e9200fe');\n",
              "          const dataTable =\n",
              "            await google.colab.kernel.invokeFunction('convertToInteractive',\n",
              "                                                     [key], {});\n",
              "          if (!dataTable) return;\n",
              "\n",
              "          const docLinkHtml = 'Like what you see? Visit the ' +\n",
              "            '<a target=\"_blank\" href=https://colab.research.google.com/notebooks/data_table.ipynb>data table notebook</a>'\n",
              "            + ' to learn more about interactive tables.';\n",
              "          element.innerHTML = '';\n",
              "          dataTable['output_type'] = 'display_data';\n",
              "          await google.colab.output.renderOutput(dataTable, element);\n",
              "          const docLink = document.createElement('div');\n",
              "          docLink.innerHTML = docLinkHtml;\n",
              "          element.appendChild(docLink);\n",
              "        }\n",
              "      </script>\n",
              "    </div>\n",
              "  </div>\n"
            ]
          },
          "metadata": {},
          "execution_count": 1
        }
      ],
      "source": [
        "import pandas\n",
        "!wget https://raw.githubusercontent.com/MicrosoftDocs/mslearn-introduction-to-machine-learning/main/graphing.py\n",
        "!wget https://raw.githubusercontent.com/MicrosoftDocs/mslearn-introduction-to-machine-learning/main/microsoft_custom_linear_regressor.py\n",
        "!wget https://raw.githubusercontent.com/MicrosoftDocs/mslearn-introduction-to-machine-learning/main/Data/seattleWeather_1948-2017.csv\n",
        "from datetime import datetime\n",
        "\n",
        "# Load a file that contains our weather data\n",
        "dataset = pandas.read_csv('seattleWeather_1948-2017.csv', parse_dates=['date'])\n",
        "\n",
        "# Convert the dates into numbers so we can use them in our models\n",
        "# We make a year column that can contain fractions. For example,\n",
        "# 1948.5 is halfway through the year 1948\n",
        "dataset[\"year\"] = [(d.year + d.timetuple().tm_yday / 365.25) for d in dataset.date]\n",
        "\n",
        "\n",
        "# For the sake of this exercise, let's look at February 1 for the following years:\n",
        "desired_dates = [\n",
        "    datetime(1950,2,1),\n",
        "    datetime(1960,2,1),\n",
        "    datetime(1970,2,1),\n",
        "    datetime(1980,2,1),\n",
        "    datetime(1990,2,1),\n",
        "    datetime(2000,2,1),\n",
        "    datetime(2010,2,1),\n",
        "    datetime(2017,2,1),\n",
        "]\n",
        "\n",
        "dataset = dataset[dataset.date.isin(desired_dates)].copy()\n",
        "\n",
        "# Print the dataset\n",
        "dataset\n"
      ]
    },
    {
      "cell_type": "markdown",
      "source": [
        "#Comparing two cost functions\n",
        "Let's compare two common cost functions: the sum of squared differences (SSD) and the sum of absolute differences (SAD). They both calculate the difference between each predicted value and the expected value. The distinction is simply:\n",
        "\n",
        "SSD squares that difference and sums the result.\n",
        "SAD converts differences into absolute differences and then sums them.\n",
        "To see these cost functions in action, we need to first implement them:"
      ],
      "metadata": {
        "id": "EViM3ybg3PRG"
      }
    },
    {
      "cell_type": "code",
      "source": [
        "import numpy\n",
        "\n",
        "def sum_of_square_differences(estimate, actual):\n",
        "    # Note that with NumPy, to square each value we use **\n",
        "    return numpy.sum((estimate - actual)**2)\n",
        "\n",
        "def sum_of_absolute_differences(estimate, actual):\n",
        "    return numpy.sum(numpy.abs(estimate - actual))"
      ],
      "metadata": {
        "id": "MIB6VaXV3ReH"
      },
      "execution_count": 2,
      "outputs": []
    },
    {
      "cell_type": "markdown",
      "source": [
        "They're very similar. How do they behave? Let's test with some fake model estimates.\n",
        "\n",
        "Let's say that the correct answers are 1 and 3, but the model estimates 2 and 2:"
      ],
      "metadata": {
        "id": "Nx7oArqw3j7t"
      }
    },
    {
      "cell_type": "code",
      "source": [
        "actual_label = numpy.array([1, 3])\n",
        "model_estimate = numpy.array([2, 2])\n",
        "\n",
        "print(\"SSD:\", sum_of_square_differences(model_estimate, actual_label))\n",
        "print(\"SAD:\", sum_of_absolute_differences(model_estimate, actual_label))"
      ],
      "metadata": {
        "colab": {
          "base_uri": "https://localhost:8080/"
        },
        "id": "WKbOhQSl3kpM",
        "outputId": "83a9b945-369c-46bc-fc3d-30b7eccfb595"
      },
      "execution_count": 3,
      "outputs": [
        {
          "output_type": "stream",
          "name": "stdout",
          "text": [
            "SSD: 2\n",
            "SAD: 2\n"
          ]
        }
      ]
    },
    {
      "cell_type": "markdown",
      "source": [
        "We have an error of `1` for each estimate, and both methods have returned the same error.\n",
        "\n",
        "What happens if we distribute these errors differently? Let's pretend that we estimated the first value perfectly but were off by `2` for the second value:"
      ],
      "metadata": {
        "id": "hS7Xq-9P3t35"
      }
    },
    {
      "cell_type": "code",
      "source": [
        "actual_label = numpy.array([1, 3])\n",
        "model_estimate = numpy.array([1, 1])\n",
        "\n",
        "print(\"SSD:\", sum_of_square_differences(model_estimate, actual_label))\n",
        "print(\"SAD:\", sum_of_absolute_differences(model_estimate, actual_label))"
      ],
      "metadata": {
        "colab": {
          "base_uri": "https://localhost:8080/"
        },
        "id": "hIVzh9Xe3zQM",
        "outputId": "cca71c2c-508c-4a57-bf1c-df39fad73fc2"
      },
      "execution_count": 4,
      "outputs": [
        {
          "output_type": "stream",
          "name": "stdout",
          "text": [
            "SSD: 4\n",
            "SAD: 2\n"
          ]
        }
      ]
    },
    {
      "cell_type": "markdown",
      "source": [
        "SAD has calculated the same cost as before, because the average error is still the same (1 + 1 = 0 + 2). According to SAD, the first and second set of estimates were equally good.\n",
        "\n",
        "By contrast, SSD has given a higher (worse) cost for the second set of estimates ( 1\n",
        "2\n",
        " +1\n",
        "2\n",
        " <0\n",
        "2\n",
        " +2\n",
        "2\n",
        "  ). When we use SSD, we encourage models to be both accurate and consistent in their accuracy.\n",
        "\n",
        "#Differences in action\n",
        "Let's compare how our two cost functions affect model fitting.\n",
        "\n",
        "First, fit a model by using the SSD cost function:"
      ],
      "metadata": {
        "id": "U8rjfHft35-t"
      }
    },
    {
      "cell_type": "code",
      "source": [
        "from microsoft_custom_linear_regressor import MicrosoftCustomLinearRegressor\n",
        "import graphing\n",
        "\n",
        "# Create and fit the model\n",
        "# We use a custom object that we've hidden from this notebook, because\n",
        "# you don't need to understand its details. This fits a linear model\n",
        "# by using a provided cost function\n",
        "\n",
        "# Fit a model by using sum of square differences\n",
        "model = MicrosoftCustomLinearRegressor().fit(X = dataset.year,\n",
        "                                             y = dataset.min_temperature,\n",
        "                                             cost_function = sum_of_square_differences)\n",
        "\n",
        "# Graph the model\n",
        "graphing.scatter_2D(dataset,\n",
        "                    label_x=\"year\",\n",
        "                    label_y=\"min_temperature\",\n",
        "                    trendline=model.predict)\n"
      ],
      "metadata": {
        "colab": {
          "base_uri": "https://localhost:8080/",
          "height": 417
        },
        "id": "-xrk5q1-3-ku",
        "outputId": "d675e983-e04b-41fc-f4c7-e59dd6c854e5"
      },
      "execution_count": 5,
      "outputs": [
        {
          "output_type": "display_data",
          "data": {
            "text/html": [
              "<html>\n",
              "<head><meta charset=\"utf-8\" /></head>\n",
              "<body>\n",
              "    <div>            <script src=\"https://cdnjs.cloudflare.com/ajax/libs/mathjax/2.7.5/MathJax.js?config=TeX-AMS-MML_SVG\"></script><script type=\"text/javascript\">if (window.MathJax && window.MathJax.Hub && window.MathJax.Hub.Config) {window.MathJax.Hub.Config({SVG: {font: \"STIX-Web\"}});}</script>                <script type=\"text/javascript\">window.PlotlyConfig = {MathJaxConfig: 'local'};</script>\n",
              "        <script src=\"https://cdn.plot.ly/plotly-2.18.2.min.js\"></script>                <div id=\"319ebbd6-5e0d-429f-be73-74acfe668923\" class=\"plotly-graph-div\" style=\"height:400px; width:100%;\"></div>            <script type=\"text/javascript\">                                    window.PLOTLYENV=window.PLOTLYENV || {};                                    if (document.getElementById(\"319ebbd6-5e0d-429f-be73-74acfe668923\")) {                    Plotly.newPlot(                        \"319ebbd6-5e0d-429f-be73-74acfe668923\",                        [{\"hovertemplate\":\"year=%{x}<br>min temperature=%{y}<extra></extra>\",\"legendgroup\":\"\",\"marker\":{\"color\":\"#636efa\",\"symbol\":\"circle\",\"size\":20},\"mode\":\"markers\",\"name\":\"\",\"orientation\":\"v\",\"showlegend\":false,\"x\":[1950.0876112251883,1960.0876112251883,1970.0876112251883,1980.0876112251883,1990.0876112251883,2000.0876112251883,2010.0876112251883,2017.0876112251883],\"xaxis\":\"x\",\"y\":[1,44,42,36,37,41,40,29],\"yaxis\":\"y\",\"type\":\"scatter\"}],                        {\"template\":{\"data\":{\"barpolar\":[{\"marker\":{\"line\":{\"color\":\"white\",\"width\":0.5},\"pattern\":{\"fillmode\":\"overlay\",\"size\":10,\"solidity\":0.2}},\"type\":\"barpolar\"}],\"bar\":[{\"error_x\":{\"color\":\"#2a3f5f\"},\"error_y\":{\"color\":\"#2a3f5f\"},\"marker\":{\"line\":{\"color\":\"white\",\"width\":0.5},\"pattern\":{\"fillmode\":\"overlay\",\"size\":10,\"solidity\":0.2}},\"type\":\"bar\"}],\"carpet\":[{\"aaxis\":{\"endlinecolor\":\"#2a3f5f\",\"gridcolor\":\"#C8D4E3\",\"linecolor\":\"#C8D4E3\",\"minorgridcolor\":\"#C8D4E3\",\"startlinecolor\":\"#2a3f5f\"},\"baxis\":{\"endlinecolor\":\"#2a3f5f\",\"gridcolor\":\"#C8D4E3\",\"linecolor\":\"#C8D4E3\",\"minorgridcolor\":\"#C8D4E3\",\"startlinecolor\":\"#2a3f5f\"},\"type\":\"carpet\"}],\"choropleth\":[{\"colorbar\":{\"outlinewidth\":0,\"ticks\":\"\"},\"type\":\"choropleth\"}],\"contourcarpet\":[{\"colorbar\":{\"outlinewidth\":0,\"ticks\":\"\"},\"type\":\"contourcarpet\"}],\"contour\":[{\"colorbar\":{\"outlinewidth\":0,\"ticks\":\"\"},\"colorscale\":[[0.0,\"#0d0887\"],[0.1111111111111111,\"#46039f\"],[0.2222222222222222,\"#7201a8\"],[0.3333333333333333,\"#9c179e\"],[0.4444444444444444,\"#bd3786\"],[0.5555555555555556,\"#d8576b\"],[0.6666666666666666,\"#ed7953\"],[0.7777777777777778,\"#fb9f3a\"],[0.8888888888888888,\"#fdca26\"],[1.0,\"#f0f921\"]],\"type\":\"contour\"}],\"heatmapgl\":[{\"colorbar\":{\"outlinewidth\":0,\"ticks\":\"\"},\"colorscale\":[[0.0,\"#0d0887\"],[0.1111111111111111,\"#46039f\"],[0.2222222222222222,\"#7201a8\"],[0.3333333333333333,\"#9c179e\"],[0.4444444444444444,\"#bd3786\"],[0.5555555555555556,\"#d8576b\"],[0.6666666666666666,\"#ed7953\"],[0.7777777777777778,\"#fb9f3a\"],[0.8888888888888888,\"#fdca26\"],[1.0,\"#f0f921\"]],\"type\":\"heatmapgl\"}],\"heatmap\":[{\"colorbar\":{\"outlinewidth\":0,\"ticks\":\"\"},\"colorscale\":[[0.0,\"#0d0887\"],[0.1111111111111111,\"#46039f\"],[0.2222222222222222,\"#7201a8\"],[0.3333333333333333,\"#9c179e\"],[0.4444444444444444,\"#bd3786\"],[0.5555555555555556,\"#d8576b\"],[0.6666666666666666,\"#ed7953\"],[0.7777777777777778,\"#fb9f3a\"],[0.8888888888888888,\"#fdca26\"],[1.0,\"#f0f921\"]],\"type\":\"heatmap\"}],\"histogram2dcontour\":[{\"colorbar\":{\"outlinewidth\":0,\"ticks\":\"\"},\"colorscale\":[[0.0,\"#0d0887\"],[0.1111111111111111,\"#46039f\"],[0.2222222222222222,\"#7201a8\"],[0.3333333333333333,\"#9c179e\"],[0.4444444444444444,\"#bd3786\"],[0.5555555555555556,\"#d8576b\"],[0.6666666666666666,\"#ed7953\"],[0.7777777777777778,\"#fb9f3a\"],[0.8888888888888888,\"#fdca26\"],[1.0,\"#f0f921\"]],\"type\":\"histogram2dcontour\"}],\"histogram2d\":[{\"colorbar\":{\"outlinewidth\":0,\"ticks\":\"\"},\"colorscale\":[[0.0,\"#0d0887\"],[0.1111111111111111,\"#46039f\"],[0.2222222222222222,\"#7201a8\"],[0.3333333333333333,\"#9c179e\"],[0.4444444444444444,\"#bd3786\"],[0.5555555555555556,\"#d8576b\"],[0.6666666666666666,\"#ed7953\"],[0.7777777777777778,\"#fb9f3a\"],[0.8888888888888888,\"#fdca26\"],[1.0,\"#f0f921\"]],\"type\":\"histogram2d\"}],\"histogram\":[{\"marker\":{\"pattern\":{\"fillmode\":\"overlay\",\"size\":10,\"solidity\":0.2},\"line\":{\"width\":1}},\"type\":\"histogram\"}],\"mesh3d\":[{\"colorbar\":{\"outlinewidth\":0,\"ticks\":\"\"},\"type\":\"mesh3d\"}],\"parcoords\":[{\"line\":{\"colorbar\":{\"outlinewidth\":0,\"ticks\":\"\"}},\"type\":\"parcoords\"}],\"pie\":[{\"automargin\":true,\"type\":\"pie\"}],\"scatter3d\":[{\"line\":{\"colorbar\":{\"outlinewidth\":0,\"ticks\":\"\"}},\"marker\":{\"colorbar\":{\"outlinewidth\":0,\"ticks\":\"\"},\"opacity\":0.8},\"type\":\"scatter3d\"}],\"scattercarpet\":[{\"marker\":{\"colorbar\":{\"outlinewidth\":0,\"ticks\":\"\"}},\"type\":\"scattercarpet\"}],\"scattergeo\":[{\"marker\":{\"colorbar\":{\"outlinewidth\":0,\"ticks\":\"\"}},\"type\":\"scattergeo\"}],\"scattergl\":[{\"marker\":{\"colorbar\":{\"outlinewidth\":0,\"ticks\":\"\"}},\"type\":\"scattergl\"}],\"scattermapbox\":[{\"marker\":{\"colorbar\":{\"outlinewidth\":0,\"ticks\":\"\"}},\"type\":\"scattermapbox\"}],\"scatterpolargl\":[{\"marker\":{\"colorbar\":{\"outlinewidth\":0,\"ticks\":\"\"}},\"type\":\"scatterpolargl\"}],\"scatterpolar\":[{\"marker\":{\"colorbar\":{\"outlinewidth\":0,\"ticks\":\"\"}},\"type\":\"scatterpolar\"}],\"scatter\":[{\"fillpattern\":{\"fillmode\":\"overlay\",\"size\":10,\"solidity\":0.2},\"type\":\"scatter\",\"marker\":{\"opacity\":0.8}}],\"scatterternary\":[{\"marker\":{\"colorbar\":{\"outlinewidth\":0,\"ticks\":\"\"}},\"type\":\"scatterternary\"}],\"surface\":[{\"colorbar\":{\"outlinewidth\":0,\"ticks\":\"\"},\"colorscale\":[[0.0,\"#0d0887\"],[0.1111111111111111,\"#46039f\"],[0.2222222222222222,\"#7201a8\"],[0.3333333333333333,\"#9c179e\"],[0.4444444444444444,\"#bd3786\"],[0.5555555555555556,\"#d8576b\"],[0.6666666666666666,\"#ed7953\"],[0.7777777777777778,\"#fb9f3a\"],[0.8888888888888888,\"#fdca26\"],[1.0,\"#f0f921\"]],\"type\":\"surface\"}],\"table\":[{\"cells\":{\"fill\":{\"color\":\"#EBF0F8\"},\"line\":{\"color\":\"white\"}},\"header\":{\"fill\":{\"color\":\"#C8D4E3\"},\"line\":{\"color\":\"white\"}},\"type\":\"table\"}],\"box\":[{\"boxpoints\":\"outliers\",\"notched\":false,\"type\":\"box\"}]},\"layout\":{\"annotationdefaults\":{\"arrowcolor\":\"#2a3f5f\",\"arrowhead\":0,\"arrowwidth\":1},\"autotypenumbers\":\"strict\",\"coloraxis\":{\"colorbar\":{\"outlinewidth\":0,\"ticks\":\"\"}},\"colorscale\":{\"diverging\":[[0,\"#8e0152\"],[0.1,\"#c51b7d\"],[0.2,\"#de77ae\"],[0.3,\"#f1b6da\"],[0.4,\"#fde0ef\"],[0.5,\"#f7f7f7\"],[0.6,\"#e6f5d0\"],[0.7,\"#b8e186\"],[0.8,\"#7fbc41\"],[0.9,\"#4d9221\"],[1,\"#276419\"]],\"sequential\":[[0.0,\"#0d0887\"],[0.1111111111111111,\"#46039f\"],[0.2222222222222222,\"#7201a8\"],[0.3333333333333333,\"#9c179e\"],[0.4444444444444444,\"#bd3786\"],[0.5555555555555556,\"#d8576b\"],[0.6666666666666666,\"#ed7953\"],[0.7777777777777778,\"#fb9f3a\"],[0.8888888888888888,\"#fdca26\"],[1.0,\"#f0f921\"]],\"sequentialminus\":[[0.0,\"#0d0887\"],[0.1111111111111111,\"#46039f\"],[0.2222222222222222,\"#7201a8\"],[0.3333333333333333,\"#9c179e\"],[0.4444444444444444,\"#bd3786\"],[0.5555555555555556,\"#d8576b\"],[0.6666666666666666,\"#ed7953\"],[0.7777777777777778,\"#fb9f3a\"],[0.8888888888888888,\"#fdca26\"],[1.0,\"#f0f921\"]]},\"colorway\":[\"#636efa\",\"#EF553B\",\"#00cc96\",\"#ab63fa\",\"#FFA15A\",\"#19d3f3\",\"#FF6692\",\"#B6E880\",\"#FF97FF\",\"#FECB52\"],\"font\":{\"color\":\"#2a3f5f\"},\"geo\":{\"bgcolor\":\"white\",\"lakecolor\":\"white\",\"landcolor\":\"white\",\"showlakes\":true,\"showland\":true,\"subunitcolor\":\"#C8D4E3\"},\"hoverlabel\":{\"align\":\"left\"},\"hovermode\":\"closest\",\"mapbox\":{\"style\":\"light\"},\"paper_bgcolor\":\"white\",\"plot_bgcolor\":\"white\",\"polar\":{\"angularaxis\":{\"gridcolor\":\"#EBF0F8\",\"linecolor\":\"#EBF0F8\",\"ticks\":\"\"},\"bgcolor\":\"white\",\"radialaxis\":{\"gridcolor\":\"#EBF0F8\",\"linecolor\":\"#EBF0F8\",\"ticks\":\"\"}},\"scene\":{\"xaxis\":{\"backgroundcolor\":\"white\",\"gridcolor\":\"#DFE8F3\",\"gridwidth\":2,\"linecolor\":\"#EBF0F8\",\"showbackground\":true,\"ticks\":\"\",\"zerolinecolor\":\"#EBF0F8\"},\"yaxis\":{\"backgroundcolor\":\"white\",\"gridcolor\":\"#DFE8F3\",\"gridwidth\":2,\"linecolor\":\"#EBF0F8\",\"showbackground\":true,\"ticks\":\"\",\"zerolinecolor\":\"#EBF0F8\"},\"zaxis\":{\"backgroundcolor\":\"white\",\"gridcolor\":\"#DFE8F3\",\"gridwidth\":2,\"linecolor\":\"#EBF0F8\",\"showbackground\":true,\"ticks\":\"\",\"zerolinecolor\":\"#EBF0F8\"},\"camera\":{\"eye\":{\"x\":1.5,\"y\":1.5,\"z\":0.1}}},\"shapedefaults\":{\"line\":{\"color\":\"#2a3f5f\"}},\"ternary\":{\"aaxis\":{\"gridcolor\":\"#DFE8F3\",\"linecolor\":\"#A2B1C6\",\"ticks\":\"\"},\"baxis\":{\"gridcolor\":\"#DFE8F3\",\"linecolor\":\"#A2B1C6\",\"ticks\":\"\"},\"bgcolor\":\"white\",\"caxis\":{\"gridcolor\":\"#DFE8F3\",\"linecolor\":\"#A2B1C6\",\"ticks\":\"\"}},\"title\":{\"x\":0.5},\"xaxis\":{\"automargin\":true,\"gridcolor\":\"#EBF0F8\",\"linecolor\":\"#EBF0F8\",\"ticks\":\"\",\"title\":{\"standoff\":15},\"zerolinecolor\":\"#EBF0F8\",\"zerolinewidth\":2,\"linewidth\":2,\"showline\":true},\"yaxis\":{\"automargin\":true,\"gridcolor\":\"#EBF0F8\",\"linecolor\":\"#EBF0F8\",\"ticks\":\"\",\"title\":{\"standoff\":15},\"zerolinecolor\":\"#EBF0F8\",\"zerolinewidth\":2,\"linewidth\":2,\"showline\":true},\"height\":400,\"margin\":{\"b\":2,\"l\":2,\"r\":2,\"t\":30}}},\"xaxis\":{\"anchor\":\"y\",\"domain\":[0.0,1.0],\"title\":{\"text\":\"year\"}},\"yaxis\":{\"anchor\":\"x\",\"domain\":[0.0,1.0],\"title\":{\"text\":\"min temperature\"}},\"legend\":{\"tracegroupgap\":0},\"shapes\":[{\"path\":\"M1950.0876112251883 26.093609277984513 L 1950.4242946422737 26.168057787177304 L 1950.760978059359 26.24250629637004 L 1951.0976614764445 26.31695480556283 L 1951.4343448935301 26.39140331475562 L 1951.7710283106155 26.465851823948412 L 1952.107711727701 26.540300333141147 L 1952.4443951447863 26.61474884233394 L 1952.7810785618717 26.689197351526673 L 1953.117761978957 26.763645860719464 L 1953.4544453960425 26.8380943699122 L 1953.791128813128 26.91254287910499 L 1954.1278122302135 26.98699138829778 L 1954.464495647299 27.061439897490516 L 1954.8011790643843 27.135888406683307 L 1955.1378624814697 27.21033691587604 L 1955.474545898555 27.284785425068833 L 1955.8112293156405 27.359233934261567 L 1956.147912732726 27.43368244345436 L 1956.4845961498115 27.50813095264715 L 1956.821279566897 27.58257946183994 L 1957.1579629839823 27.657027971032676 L 1957.4946464010677 27.731476480225467 L 1957.831329818153 27.8059249894182 L 1958.1680132352385 27.880373498610993 L 1958.504696652324 27.954822007803728 L 1958.8413800694095 28.02927051699652 L 1959.178063486495 28.10371902618931 L 1959.5147469035803 28.178167535382045 L 1959.8514303206657 28.252616044574836 L 1960.188113737751 28.32706455376757 L 1960.5247971548365 28.401513062960362 L 1960.861480571922 28.475961572153096 L 1961.1981639890073 28.550410081345888 L 1961.534847406093 28.62485859053868 L 1961.8715308231783 28.69930709973147 L 1962.2082142402637 28.773755608924205 L 1962.544897657349 28.848204118116996 L 1962.8815810744345 28.92265262730973 L 1963.21826449152 28.997101136502522 L 1963.5549479086053 29.071549645695256 L 1963.891631325691 29.145998154888048 L 1964.2283147427763 29.22044666408084 L 1964.5649981598617 29.294895173273574 L 1964.901681576947 29.369343682466365 L 1965.2383649940325 29.4437921916591 L 1965.575048411118 29.51824070085189 L 1965.9117318282033 29.592689210044625 L 1966.248415245289 29.667137719237473 L 1966.5850986623743 29.741586228430208 L 1966.9217820794597 29.816034737623 L 1967.258465496545 29.890483246815734 L 1967.5951489136305 29.964931756008525 L 1967.931832330716 30.03938026520126 L 1968.2685157478013 30.11382877439405 L 1968.6051991648867 30.188277283586785 L 1968.9418825819723 30.262725792779634 L 1969.2785659990577 30.337174301972368 L 1969.6152494161431 30.41162281116516 L 1969.9519328332285 30.486071320357894 L 1970.288616250314 30.56051982955063 L 1970.6252996673993 30.63496833874342 L 1970.9619830844847 30.709416847936154 L 1971.2986665015703 30.783865357129002 L 1971.6353499186557 30.858313866321737 L 1971.9720333357411 30.93276237551453 L 1972.3087167528265 31.007210884707263 L 1972.645400169912 31.081659393900054 L 1972.9820835869973 31.15610790309279 L 1973.3187670040827 31.23055641228558 L 1973.655450421168 31.305004921478314 L 1973.9921338382537 31.379453430671163 L 1974.3288172553391 31.453901939863897 L 1974.6655006724245 31.52835044905669 L 1975.00218408951 31.602798958249423 L 1975.3388675065953 31.677247467442214 L 1975.6755509236807 31.75169597663495 L 1976.012234340766 31.82614448582774 L 1976.3489177578517 31.90059299502053 L 1976.6856011749371 31.975041504213266 L 1977.0222845920225 32.04949001340606 L 1977.358968009108 32.12393852259879 L 1977.6956514261933 32.19838703179158 L 1978.0323348432787 32.27283554098432 L 1978.369018260364 32.34728405017711 L 1978.7057016774497 32.4217325593699 L 1979.0423850945351 32.49618106856269 L 1979.3790685116205 32.570629577755426 L 1979.715751928706 32.64507808694822 L 1980.0524353457913 32.71952659614095 L 1980.3891187628767 32.79397510533374 L 1980.725802179962 32.86842361452648 L 1981.0624855970475 32.94287212371927 L 1981.3991690141331 33.01732063291206 L 1981.7358524312185 33.091769142104795 L 1982.072535848304 33.166217651297586 L 1982.4092192653893 33.24066616049032 L 1982.7459026824747 33.31511466968311 L 1983.08258609956 33.38956317887585 L 1983.4192695166455 33.46401168806864 L 1983.7559529337311 33.53846019726143 L 1984.0926363508165 33.61290870645422 L 1984.429319767902 33.687357215646955 L 1984.7660031849873 33.761805724839746 L 1985.1026866020727 33.83625423403248 L 1985.439370019158 33.91070274322527 L 1985.7760534362435 33.98515125241801 L 1986.1127368533291 34.0595997616108 L 1986.4494202704145 34.13404827080359 L 1986.7861036875 34.208496779996324 L 1987.1227871045853 34.282945289189115 L 1987.4594705216707 34.35739379838185 L 1987.796153938756 34.43184230757464 L 1988.1328373558415 34.506290816767375 L 1988.469520772927 34.58073932596017 L 1988.8062041900125 34.65518783515296 L 1989.142887607098 34.72963634434575 L 1989.4795710241833 34.804084853538484 L 1989.8162544412687 34.878533362731275 L 1990.152937858354 34.95298187192401 L 1990.4896212754395 35.0274303811168 L 1990.826304692525 35.101878890309536 L 1991.1629881096105 35.176327399502384 L 1991.499671526696 35.25077590869512 L 1991.8363549437813 35.32522441788791 L 1992.1730383608667 35.399672927080644 L 1992.509721777952 35.47412143627338 L 1992.8464051950375 35.54856994546617 L 1993.183088612123 35.623018454658904 L 1993.5197720292085 35.69746696385175 L 1993.856455446294 35.77191547304449 L 1994.1931388633793 35.84636398223728 L 1994.5298222804647 35.92081249143001 L 1994.86650569755 35.995261000622804 L 1995.2031891146355 36.06970950981554 L 1995.539872531721 36.14415801900833 L 1995.8765559488063 36.218606528201065 L 1996.213239365892 36.29305503739391 L 1996.5499227829773 36.36750354658665 L 1996.8866062000627 36.44195205577944 L 1997.223289617148 36.51640056497217 L 1997.5599730342335 36.590849074164964 L 1997.896656451319 36.6652975833577 L 1998.2333398684043 36.73974609255049 L 1998.57002328549 36.81419460174328 L 1998.9067067025753 36.888643110936016 L 1999.2433901196607 36.96309162012881 L 1999.580073536746 37.03754012932154 L 1999.9167569538315 37.11198863851433 L 2000.253440370917 37.18643714770707 L 2000.5901237880023 37.26088565689986 L 2000.9268072050877 37.33533416609259 L 2001.2634906221733 37.40978267528544 L 2001.6001740392587 37.484231184478176 L 2001.9368574563441 37.55867969367097 L 2002.2735408734295 37.6331282028637 L 2002.610224290515 37.70757671205649 L 2002.9469077076003 37.78202522124923 L 2003.2835911246857 37.85647373044202 L 2003.6202745417713 37.93092223963481 L 2003.9569579588567 38.005370748827545 L 2004.2936413759421 38.079819258020336 L 2004.6303247930275 38.15426776721307 L 2004.967008210113 38.22871627640586 L 2005.3036916271983 38.3031647855986 L 2005.6403750442837 38.37761329479139 L 2005.9770584613693 38.45206180398418 L 2006.3137418784547 38.52651031317697 L 2006.6504252955401 38.600958822369705 L 2006.9871087126255 38.675407331562496 L 2007.323792129711 38.74985584075523 L 2007.6604755467963 38.82430434994802 L 2007.9971589638817 38.89875285914076 L 2008.333842380967 38.97320136833355 L 2008.6705257980527 39.04764987752634 L 2009.0072092151381 39.122098386719074 L 2009.3438926322235 39.196546895911865 L 2009.680576049309 39.2709954051046 L 2010.0172594663943 39.34544391429739 L 2010.3539428834797 39.419892423490126 L 2010.690626300565 39.49434093268292 L 2011.0273097176507 39.56878944187571 L 2011.3639931347361 39.6432379510685 L 2011.7006765518215 39.717686460261234 L 2012.037359968907 39.792134969454025 L 2012.3740433859923 39.86658347864676 L 2012.7107268030777 39.94103198783955 L 2013.047410220163 40.015480497032286 L 2013.3840936372487 40.089929006225134 L 2013.7207770543341 40.16437751541787 L 2014.0574604714195 40.23882602461066 L 2014.394143888505 40.313274533803394 L 2014.7308273055903 40.387723042996186 L 2015.0675107226757 40.46217155218892 L 2015.404194139761 40.536620061381655 L 2015.7408775568465 40.611068570574446 L 2016.0775609739321 40.68551707976724 L 2016.4142443910175 40.75996558896003 L 2016.750927808103 40.83441409815276 L 2017.0876112251883 40.908862607345554\",\"type\":\"path\",\"line\":{\"color\":\"rgb(228,26,28)\"}}]},                        {\"responsive\": true}                    ).then(function(){\n",
              "                            \n",
              "var gd = document.getElementById('319ebbd6-5e0d-429f-be73-74acfe668923');\n",
              "var x = new MutationObserver(function (mutations, observer) {{\n",
              "        var display = window.getComputedStyle(gd).display;\n",
              "        if (!display || display === 'none') {{\n",
              "            console.log([gd, 'removed!']);\n",
              "            Plotly.purge(gd);\n",
              "            observer.disconnect();\n",
              "        }}\n",
              "}});\n",
              "\n",
              "// Listen for the removal of the full notebook cells\n",
              "var notebookContainer = gd.closest('#notebook-container');\n",
              "if (notebookContainer) {{\n",
              "    x.observe(notebookContainer, {childList: true});\n",
              "}}\n",
              "\n",
              "// Listen for the clearing of the current output cell\n",
              "var outputEl = gd.closest('.output');\n",
              "if (outputEl) {{\n",
              "    x.observe(outputEl, {childList: true});\n",
              "}}\n",
              "\n",
              "                        })                };                            </script>        </div>\n",
              "</body>\n",
              "</html>"
            ]
          },
          "metadata": {}
        }
      ]
    },
    {
      "cell_type": "markdown",
      "source": [
        "Our SSD method normally does well, but here it did a poor job. The line is a far distance from the values for many years. Why? Notice that the datapoint at the lower left doesn't seem to follow the trend of the other datapoints. 1950 was a very cold winter in Seattle, and this datapoint is strongly influencing our final model (the red line). What happens if we change the cost function?\n",
        "\n",
        "Sum of absolute differences\n",
        "Let's repeat what we've just done, but using SAD."
      ],
      "metadata": {
        "id": "CXp-KEYu4ap5"
      }
    },
    {
      "cell_type": "code",
      "source": [
        "# Fit a model with SAD\n",
        "# Fit a model by using sum of absolute differences\n",
        "model = MicrosoftCustomLinearRegressor().fit(X = dataset.year,\n",
        "                                             y = dataset.min_temperature,\n",
        "                                             cost_function = sum_of_absolute_differences)\n",
        "\n",
        "# Graph the model\n",
        "graphing.scatter_2D(dataset,\n",
        "                    label_x=\"year\",\n",
        "                    label_y=\"min_temperature\",\n",
        "                    trendline=model.predict)\n"
      ],
      "metadata": {
        "colab": {
          "base_uri": "https://localhost:8080/",
          "height": 417
        },
        "id": "S3N5m-No4bgV",
        "outputId": "c7213c28-3f15-43fd-c120-4f489fbfabbe"
      },
      "execution_count": 6,
      "outputs": [
        {
          "output_type": "display_data",
          "data": {
            "text/html": [
              "<html>\n",
              "<head><meta charset=\"utf-8\" /></head>\n",
              "<body>\n",
              "    <div>            <script src=\"https://cdnjs.cloudflare.com/ajax/libs/mathjax/2.7.5/MathJax.js?config=TeX-AMS-MML_SVG\"></script><script type=\"text/javascript\">if (window.MathJax && window.MathJax.Hub && window.MathJax.Hub.Config) {window.MathJax.Hub.Config({SVG: {font: \"STIX-Web\"}});}</script>                <script type=\"text/javascript\">window.PlotlyConfig = {MathJaxConfig: 'local'};</script>\n",
              "        <script src=\"https://cdn.plot.ly/plotly-2.18.2.min.js\"></script>                <div id=\"84fa03d7-b17f-4d89-8ecd-2aaa44c76f27\" class=\"plotly-graph-div\" style=\"height:400px; width:100%;\"></div>            <script type=\"text/javascript\">                                    window.PLOTLYENV=window.PLOTLYENV || {};                                    if (document.getElementById(\"84fa03d7-b17f-4d89-8ecd-2aaa44c76f27\")) {                    Plotly.newPlot(                        \"84fa03d7-b17f-4d89-8ecd-2aaa44c76f27\",                        [{\"hovertemplate\":\"year=%{x}<br>min temperature=%{y}<extra></extra>\",\"legendgroup\":\"\",\"marker\":{\"color\":\"#636efa\",\"symbol\":\"circle\",\"size\":20},\"mode\":\"markers\",\"name\":\"\",\"orientation\":\"v\",\"showlegend\":false,\"x\":[1950.0876112251883,1960.0876112251883,1970.0876112251883,1980.0876112251883,1990.0876112251883,2000.0876112251883,2010.0876112251883,2017.0876112251883],\"xaxis\":\"x\",\"y\":[1,44,42,36,37,41,40,29],\"yaxis\":\"y\",\"type\":\"scatter\"}],                        {\"template\":{\"data\":{\"barpolar\":[{\"marker\":{\"line\":{\"color\":\"white\",\"width\":0.5},\"pattern\":{\"fillmode\":\"overlay\",\"size\":10,\"solidity\":0.2}},\"type\":\"barpolar\"}],\"bar\":[{\"error_x\":{\"color\":\"#2a3f5f\"},\"error_y\":{\"color\":\"#2a3f5f\"},\"marker\":{\"line\":{\"color\":\"white\",\"width\":0.5},\"pattern\":{\"fillmode\":\"overlay\",\"size\":10,\"solidity\":0.2}},\"type\":\"bar\"}],\"carpet\":[{\"aaxis\":{\"endlinecolor\":\"#2a3f5f\",\"gridcolor\":\"#C8D4E3\",\"linecolor\":\"#C8D4E3\",\"minorgridcolor\":\"#C8D4E3\",\"startlinecolor\":\"#2a3f5f\"},\"baxis\":{\"endlinecolor\":\"#2a3f5f\",\"gridcolor\":\"#C8D4E3\",\"linecolor\":\"#C8D4E3\",\"minorgridcolor\":\"#C8D4E3\",\"startlinecolor\":\"#2a3f5f\"},\"type\":\"carpet\"}],\"choropleth\":[{\"colorbar\":{\"outlinewidth\":0,\"ticks\":\"\"},\"type\":\"choropleth\"}],\"contourcarpet\":[{\"colorbar\":{\"outlinewidth\":0,\"ticks\":\"\"},\"type\":\"contourcarpet\"}],\"contour\":[{\"colorbar\":{\"outlinewidth\":0,\"ticks\":\"\"},\"colorscale\":[[0.0,\"#0d0887\"],[0.1111111111111111,\"#46039f\"],[0.2222222222222222,\"#7201a8\"],[0.3333333333333333,\"#9c179e\"],[0.4444444444444444,\"#bd3786\"],[0.5555555555555556,\"#d8576b\"],[0.6666666666666666,\"#ed7953\"],[0.7777777777777778,\"#fb9f3a\"],[0.8888888888888888,\"#fdca26\"],[1.0,\"#f0f921\"]],\"type\":\"contour\"}],\"heatmapgl\":[{\"colorbar\":{\"outlinewidth\":0,\"ticks\":\"\"},\"colorscale\":[[0.0,\"#0d0887\"],[0.1111111111111111,\"#46039f\"],[0.2222222222222222,\"#7201a8\"],[0.3333333333333333,\"#9c179e\"],[0.4444444444444444,\"#bd3786\"],[0.5555555555555556,\"#d8576b\"],[0.6666666666666666,\"#ed7953\"],[0.7777777777777778,\"#fb9f3a\"],[0.8888888888888888,\"#fdca26\"],[1.0,\"#f0f921\"]],\"type\":\"heatmapgl\"}],\"heatmap\":[{\"colorbar\":{\"outlinewidth\":0,\"ticks\":\"\"},\"colorscale\":[[0.0,\"#0d0887\"],[0.1111111111111111,\"#46039f\"],[0.2222222222222222,\"#7201a8\"],[0.3333333333333333,\"#9c179e\"],[0.4444444444444444,\"#bd3786\"],[0.5555555555555556,\"#d8576b\"],[0.6666666666666666,\"#ed7953\"],[0.7777777777777778,\"#fb9f3a\"],[0.8888888888888888,\"#fdca26\"],[1.0,\"#f0f921\"]],\"type\":\"heatmap\"}],\"histogram2dcontour\":[{\"colorbar\":{\"outlinewidth\":0,\"ticks\":\"\"},\"colorscale\":[[0.0,\"#0d0887\"],[0.1111111111111111,\"#46039f\"],[0.2222222222222222,\"#7201a8\"],[0.3333333333333333,\"#9c179e\"],[0.4444444444444444,\"#bd3786\"],[0.5555555555555556,\"#d8576b\"],[0.6666666666666666,\"#ed7953\"],[0.7777777777777778,\"#fb9f3a\"],[0.8888888888888888,\"#fdca26\"],[1.0,\"#f0f921\"]],\"type\":\"histogram2dcontour\"}],\"histogram2d\":[{\"colorbar\":{\"outlinewidth\":0,\"ticks\":\"\"},\"colorscale\":[[0.0,\"#0d0887\"],[0.1111111111111111,\"#46039f\"],[0.2222222222222222,\"#7201a8\"],[0.3333333333333333,\"#9c179e\"],[0.4444444444444444,\"#bd3786\"],[0.5555555555555556,\"#d8576b\"],[0.6666666666666666,\"#ed7953\"],[0.7777777777777778,\"#fb9f3a\"],[0.8888888888888888,\"#fdca26\"],[1.0,\"#f0f921\"]],\"type\":\"histogram2d\"}],\"histogram\":[{\"marker\":{\"pattern\":{\"fillmode\":\"overlay\",\"size\":10,\"solidity\":0.2},\"line\":{\"width\":1}},\"type\":\"histogram\"}],\"mesh3d\":[{\"colorbar\":{\"outlinewidth\":0,\"ticks\":\"\"},\"type\":\"mesh3d\"}],\"parcoords\":[{\"line\":{\"colorbar\":{\"outlinewidth\":0,\"ticks\":\"\"}},\"type\":\"parcoords\"}],\"pie\":[{\"automargin\":true,\"type\":\"pie\"}],\"scatter3d\":[{\"line\":{\"colorbar\":{\"outlinewidth\":0,\"ticks\":\"\"}},\"marker\":{\"colorbar\":{\"outlinewidth\":0,\"ticks\":\"\"},\"opacity\":0.8},\"type\":\"scatter3d\"}],\"scattercarpet\":[{\"marker\":{\"colorbar\":{\"outlinewidth\":0,\"ticks\":\"\"}},\"type\":\"scattercarpet\"}],\"scattergeo\":[{\"marker\":{\"colorbar\":{\"outlinewidth\":0,\"ticks\":\"\"}},\"type\":\"scattergeo\"}],\"scattergl\":[{\"marker\":{\"colorbar\":{\"outlinewidth\":0,\"ticks\":\"\"}},\"type\":\"scattergl\"}],\"scattermapbox\":[{\"marker\":{\"colorbar\":{\"outlinewidth\":0,\"ticks\":\"\"}},\"type\":\"scattermapbox\"}],\"scatterpolargl\":[{\"marker\":{\"colorbar\":{\"outlinewidth\":0,\"ticks\":\"\"}},\"type\":\"scatterpolargl\"}],\"scatterpolar\":[{\"marker\":{\"colorbar\":{\"outlinewidth\":0,\"ticks\":\"\"}},\"type\":\"scatterpolar\"}],\"scatter\":[{\"fillpattern\":{\"fillmode\":\"overlay\",\"size\":10,\"solidity\":0.2},\"type\":\"scatter\",\"marker\":{\"opacity\":0.8}}],\"scatterternary\":[{\"marker\":{\"colorbar\":{\"outlinewidth\":0,\"ticks\":\"\"}},\"type\":\"scatterternary\"}],\"surface\":[{\"colorbar\":{\"outlinewidth\":0,\"ticks\":\"\"},\"colorscale\":[[0.0,\"#0d0887\"],[0.1111111111111111,\"#46039f\"],[0.2222222222222222,\"#7201a8\"],[0.3333333333333333,\"#9c179e\"],[0.4444444444444444,\"#bd3786\"],[0.5555555555555556,\"#d8576b\"],[0.6666666666666666,\"#ed7953\"],[0.7777777777777778,\"#fb9f3a\"],[0.8888888888888888,\"#fdca26\"],[1.0,\"#f0f921\"]],\"type\":\"surface\"}],\"table\":[{\"cells\":{\"fill\":{\"color\":\"#EBF0F8\"},\"line\":{\"color\":\"white\"}},\"header\":{\"fill\":{\"color\":\"#C8D4E3\"},\"line\":{\"color\":\"white\"}},\"type\":\"table\"}],\"box\":[{\"boxpoints\":\"outliers\",\"notched\":false,\"type\":\"box\"}]},\"layout\":{\"annotationdefaults\":{\"arrowcolor\":\"#2a3f5f\",\"arrowhead\":0,\"arrowwidth\":1},\"autotypenumbers\":\"strict\",\"coloraxis\":{\"colorbar\":{\"outlinewidth\":0,\"ticks\":\"\"}},\"colorscale\":{\"diverging\":[[0,\"#8e0152\"],[0.1,\"#c51b7d\"],[0.2,\"#de77ae\"],[0.3,\"#f1b6da\"],[0.4,\"#fde0ef\"],[0.5,\"#f7f7f7\"],[0.6,\"#e6f5d0\"],[0.7,\"#b8e186\"],[0.8,\"#7fbc41\"],[0.9,\"#4d9221\"],[1,\"#276419\"]],\"sequential\":[[0.0,\"#0d0887\"],[0.1111111111111111,\"#46039f\"],[0.2222222222222222,\"#7201a8\"],[0.3333333333333333,\"#9c179e\"],[0.4444444444444444,\"#bd3786\"],[0.5555555555555556,\"#d8576b\"],[0.6666666666666666,\"#ed7953\"],[0.7777777777777778,\"#fb9f3a\"],[0.8888888888888888,\"#fdca26\"],[1.0,\"#f0f921\"]],\"sequentialminus\":[[0.0,\"#0d0887\"],[0.1111111111111111,\"#46039f\"],[0.2222222222222222,\"#7201a8\"],[0.3333333333333333,\"#9c179e\"],[0.4444444444444444,\"#bd3786\"],[0.5555555555555556,\"#d8576b\"],[0.6666666666666666,\"#ed7953\"],[0.7777777777777778,\"#fb9f3a\"],[0.8888888888888888,\"#fdca26\"],[1.0,\"#f0f921\"]]},\"colorway\":[\"#636efa\",\"#EF553B\",\"#00cc96\",\"#ab63fa\",\"#FFA15A\",\"#19d3f3\",\"#FF6692\",\"#B6E880\",\"#FF97FF\",\"#FECB52\"],\"font\":{\"color\":\"#2a3f5f\"},\"geo\":{\"bgcolor\":\"white\",\"lakecolor\":\"white\",\"landcolor\":\"white\",\"showlakes\":true,\"showland\":true,\"subunitcolor\":\"#C8D4E3\"},\"hoverlabel\":{\"align\":\"left\"},\"hovermode\":\"closest\",\"mapbox\":{\"style\":\"light\"},\"paper_bgcolor\":\"white\",\"plot_bgcolor\":\"white\",\"polar\":{\"angularaxis\":{\"gridcolor\":\"#EBF0F8\",\"linecolor\":\"#EBF0F8\",\"ticks\":\"\"},\"bgcolor\":\"white\",\"radialaxis\":{\"gridcolor\":\"#EBF0F8\",\"linecolor\":\"#EBF0F8\",\"ticks\":\"\"}},\"scene\":{\"xaxis\":{\"backgroundcolor\":\"white\",\"gridcolor\":\"#DFE8F3\",\"gridwidth\":2,\"linecolor\":\"#EBF0F8\",\"showbackground\":true,\"ticks\":\"\",\"zerolinecolor\":\"#EBF0F8\"},\"yaxis\":{\"backgroundcolor\":\"white\",\"gridcolor\":\"#DFE8F3\",\"gridwidth\":2,\"linecolor\":\"#EBF0F8\",\"showbackground\":true,\"ticks\":\"\",\"zerolinecolor\":\"#EBF0F8\"},\"zaxis\":{\"backgroundcolor\":\"white\",\"gridcolor\":\"#DFE8F3\",\"gridwidth\":2,\"linecolor\":\"#EBF0F8\",\"showbackground\":true,\"ticks\":\"\",\"zerolinecolor\":\"#EBF0F8\"},\"camera\":{\"eye\":{\"x\":1.5,\"y\":1.5,\"z\":0.1}}},\"shapedefaults\":{\"line\":{\"color\":\"#2a3f5f\"}},\"ternary\":{\"aaxis\":{\"gridcolor\":\"#DFE8F3\",\"linecolor\":\"#A2B1C6\",\"ticks\":\"\"},\"baxis\":{\"gridcolor\":\"#DFE8F3\",\"linecolor\":\"#A2B1C6\",\"ticks\":\"\"},\"bgcolor\":\"white\",\"caxis\":{\"gridcolor\":\"#DFE8F3\",\"linecolor\":\"#A2B1C6\",\"ticks\":\"\"}},\"title\":{\"x\":0.5},\"xaxis\":{\"automargin\":true,\"gridcolor\":\"#EBF0F8\",\"linecolor\":\"#EBF0F8\",\"ticks\":\"\",\"title\":{\"standoff\":15},\"zerolinecolor\":\"#EBF0F8\",\"zerolinewidth\":2,\"linewidth\":2,\"showline\":true},\"yaxis\":{\"automargin\":true,\"gridcolor\":\"#EBF0F8\",\"linecolor\":\"#EBF0F8\",\"ticks\":\"\",\"title\":{\"standoff\":15},\"zerolinecolor\":\"#EBF0F8\",\"zerolinewidth\":2,\"linewidth\":2,\"showline\":true},\"height\":400,\"margin\":{\"b\":2,\"l\":2,\"r\":2,\"t\":30}}},\"xaxis\":{\"anchor\":\"y\",\"domain\":[0.0,1.0],\"title\":{\"text\":\"year\"}},\"yaxis\":{\"anchor\":\"x\",\"domain\":[0.0,1.0],\"title\":{\"text\":\"min temperature\"}},\"legend\":{\"tracegroupgap\":0},\"shapes\":[{\"path\":\"M1950.0876112251883 38.42538698955543 L 1950.4242946422737 38.43229080808975 L 1950.760978059359 38.43919462662407 L 1951.0976614764445 38.44609844515839 L 1951.4343448935301 38.45300226369271 L 1951.7710283106155 38.459906082227036 L 1952.107711727701 38.466809900761355 L 1952.4443951447863 38.473713719295674 L 1952.7810785618717 38.48061753782999 L 1953.117761978957 38.48752135636431 L 1953.4544453960425 38.49442517489863 L 1953.791128813128 38.50132899343295 L 1954.1278122302135 38.508232811967275 L 1954.464495647299 38.515136630501594 L 1954.8011790643843 38.52204044903591 L 1955.1378624814697 38.52894426757023 L 1955.474545898555 38.53584808610455 L 1955.8112293156405 38.54275190463887 L 1956.147912732726 38.54965572317319 L 1956.4845961498115 38.556559541707514 L 1956.821279566897 38.56346336024183 L 1957.1579629839823 38.57036717877615 L 1957.4946464010677 38.57727099731047 L 1957.831329818153 38.58417481584479 L 1958.1680132352385 38.59107863437911 L 1958.504696652324 38.59798245291343 L 1958.8413800694095 38.604886271447754 L 1959.178063486495 38.61179008998207 L 1959.5147469035803 38.61869390851639 L 1959.8514303206657 38.62559772705071 L 1960.188113737751 38.63250154558503 L 1960.5247971548365 38.639405364119355 L 1960.861480571922 38.646309182653674 L 1961.1981639890073 38.65321300118799 L 1961.534847406093 38.66011681972231 L 1961.8715308231783 38.66702063825664 L 1962.2082142402637 38.67392445679096 L 1962.544897657349 38.680828275325275 L 1962.8815810744345 38.687732093859594 L 1963.21826449152 38.69463591239391 L 1963.5549479086053 38.70153973092823 L 1963.891631325691 38.70844354946256 L 1964.2283147427763 38.71534736799688 L 1964.5649981598617 38.722251186531196 L 1964.901681576947 38.729155005065515 L 1965.2383649940325 38.73605882359983 L 1965.575048411118 38.74296264213415 L 1965.9117318282033 38.74986646066847 L 1966.248415245289 38.7567702792028 L 1966.5850986623743 38.763674097737116 L 1966.9217820794597 38.770577916271435 L 1967.258465496545 38.777481734805754 L 1967.5951489136305 38.78438555334007 L 1967.931832330716 38.79128937187439 L 1968.2685157478013 38.79819319040871 L 1968.6051991648867 38.80509700894303 L 1968.9418825819723 38.812000827477355 L 1969.2785659990577 38.818904646011674 L 1969.6152494161431 38.82580846454599 L 1969.9519328332285 38.83271228308031 L 1970.288616250314 38.83961610161463 L 1970.6252996673993 38.84651992014896 L 1970.9619830844847 38.853423738683276 L 1971.2986665015703 38.860327557217595 L 1971.6353499186557 38.86723137575191 L 1971.9720333357411 38.87413519428623 L 1972.3087167528265 38.88103901282056 L 1972.645400169912 38.88794283135488 L 1972.9820835869973 38.894846649889196 L 1973.3187670040827 38.901750468423515 L 1973.655450421168 38.908654286957834 L 1973.9921338382537 38.91555810549216 L 1974.3288172553391 38.92246192402648 L 1974.6655006724245 38.9293657425608 L 1975.00218408951 38.936269561095116 L 1975.3388675065953 38.943173379629435 L 1975.6755509236807 38.950077198163754 L 1976.012234340766 38.95698101669807 L 1976.3489177578517 38.9638848352324 L 1976.6856011749371 38.97078865376672 L 1977.0222845920225 38.97769247230104 L 1977.358968009108 38.984596290835356 L 1977.6956514261933 38.991500109369674 L 1978.0323348432787 38.99840392790399 L 1978.369018260364 39.00530774643831 L 1978.7057016774497 39.01221156497264 L 1979.0423850945351 39.01911538350696 L 1979.3790685116205 39.026019202041276 L 1979.715751928706 39.032923020575595 L 1980.0524353457913 39.039826839109914 L 1980.3891187628767 39.04673065764423 L 1980.725802179962 39.05363447617856 L 1981.0624855970475 39.06053829471288 L 1981.3991690141331 39.067442113247196 L 1981.7358524312185 39.074345931781515 L 1982.072535848304 39.081249750315834 L 1982.4092192653893 39.08815356885016 L 1982.7459026824747 39.09505738738448 L 1983.08258609956 39.1019612059188 L 1983.4192695166455 39.10886502445312 L 1983.7559529337311 39.11576884298744 L 1984.0926363508165 39.12267266152176 L 1984.429319767902 39.12957648005608 L 1984.7660031849873 39.1364802985904 L 1985.1026866020727 39.14338411712472 L 1985.439370019158 39.15028793565904 L 1985.7760534362435 39.157191754193356 L 1986.1127368533291 39.16409557272768 L 1986.4494202704145 39.170999391262 L 1986.7861036875 39.17790320979632 L 1987.1227871045853 39.18480702833064 L 1987.4594705216707 39.19171084686496 L 1987.796153938756 39.198614665399276 L 1988.1328373558415 39.205518483933595 L 1988.469520772927 39.212422302467914 L 1988.8062041900125 39.21932612100224 L 1989.142887607098 39.22622993953656 L 1989.4795710241833 39.23313375807088 L 1989.8162544412687 39.2400375766052 L 1990.152937858354 39.246941395139515 L 1990.4896212754395 39.253845213673834 L 1990.826304692525 39.26074903220815 L 1991.1629881096105 39.26765285074248 L 1991.499671526696 39.2745566692768 L 1991.8363549437813 39.28146048781112 L 1992.1730383608667 39.288364306345436 L 1992.509721777952 39.29526812487976 L 1992.8464051950375 39.30217194341408 L 1993.183088612123 39.3090757619484 L 1993.5197720292085 39.31597958048272 L 1993.856455446294 39.322883399017044 L 1994.1931388633793 39.32978721755136 L 1994.5298222804647 39.33669103608568 L 1994.86650569755 39.34359485462 L 1995.2031891146355 39.35049867315432 L 1995.539872531721 39.35740249168864 L 1995.8765559488063 39.36430631022296 L 1996.213239365892 39.37121012875728 L 1996.5499227829773 39.3781139472916 L 1996.8866062000627 39.38501776582592 L 1997.223289617148 39.39192158436024 L 1997.5599730342335 39.39882540289456 L 1997.896656451319 39.40572922142888 L 1998.2333398684043 39.4126330399632 L 1998.57002328549 39.41953685849752 L 1998.9067067025753 39.42644067703184 L 1999.2433901196607 39.43334449556616 L 1999.580073536746 39.44024831410048 L 1999.9167569538315 39.4471521326348 L 2000.253440370917 39.45405595116912 L 2000.5901237880023 39.460959769703436 L 2000.9268072050877 39.467863588237755 L 2001.2634906221733 39.47476740677208 L 2001.6001740392587 39.4816712253064 L 2001.9368574563441 39.48857504384072 L 2002.2735408734295 39.49547886237504 L 2002.610224290515 39.50238268090936 L 2002.9469077076003 39.50928649944368 L 2003.2835911246857 39.516190317978 L 2003.6202745417713 39.52309413651232 L 2003.9569579588567 39.529997955046646 L 2004.2936413759421 39.536901773580965 L 2004.6303247930275 39.543805592115284 L 2004.967008210113 39.5507094106496 L 2005.3036916271983 39.55761322918392 L 2005.6403750442837 39.56451704771824 L 2005.9770584613693 39.571420866252566 L 2006.3137418784547 39.578324684786885 L 2006.6504252955401 39.585228503321204 L 2006.9871087126255 39.59213232185552 L 2007.323792129711 39.59903614038984 L 2007.6604755467963 39.60593995892416 L 2007.9971589638817 39.61284377745848 L 2008.333842380967 39.6197475959928 L 2008.6705257980527 39.626651414527124 L 2009.0072092151381 39.63355523306144 L 2009.3438926322235 39.64045905159576 L 2009.680576049309 39.64736287013008 L 2010.0172594663943 39.6542666886644 L 2010.3539428834797 39.66117050719872 L 2010.690626300565 39.66807432573304 L 2011.0273097176507 39.674978144267364 L 2011.3639931347361 39.68188196280168 L 2011.7006765518215 39.688785781336 L 2012.037359968907 39.69568959987032 L 2012.3740433859923 39.70259341840464 L 2012.7107268030777 39.709497236938965 L 2013.047410220163 39.716401055473284 L 2013.3840936372487 39.7233048740076 L 2013.7207770543341 39.73020869254192 L 2014.0574604714195 39.73711251107624 L 2014.394143888505 39.74401632961057 L 2014.7308273055903 39.750920148144886 L 2015.0675107226757 39.757823966679204 L 2015.404194139761 39.76472778521352 L 2015.7408775568465 39.77163160374784 L 2016.0775609739321 39.77853542228217 L 2016.4142443910175 39.78543924081649 L 2016.750927808103 39.792343059350806 L 2017.0876112251883 39.799246877885125\",\"type\":\"path\",\"line\":{\"color\":\"rgb(228,26,28)\"}}]},                        {\"responsive\": true}                    ).then(function(){\n",
              "                            \n",
              "var gd = document.getElementById('84fa03d7-b17f-4d89-8ecd-2aaa44c76f27');\n",
              "var x = new MutationObserver(function (mutations, observer) {{\n",
              "        var display = window.getComputedStyle(gd).display;\n",
              "        if (!display || display === 'none') {{\n",
              "            console.log([gd, 'removed!']);\n",
              "            Plotly.purge(gd);\n",
              "            observer.disconnect();\n",
              "        }}\n",
              "}});\n",
              "\n",
              "// Listen for the removal of the full notebook cells\n",
              "var notebookContainer = gd.closest('#notebook-container');\n",
              "if (notebookContainer) {{\n",
              "    x.observe(notebookContainer, {childList: true});\n",
              "}}\n",
              "\n",
              "// Listen for the clearing of the current output cell\n",
              "var outputEl = gd.closest('.output');\n",
              "if (outputEl) {{\n",
              "    x.observe(outputEl, {childList: true});\n",
              "}}\n",
              "\n",
              "                        })                };                            </script>        </div>\n",
              "</body>\n",
              "</html>"
            ]
          },
          "metadata": {}
        }
      ]
    },
    {
      "cell_type": "markdown",
      "source": [
        "It's clear that this line passes through the majority of points much better than before, at the expense of almost ignoring the measurement taken in 1950.\n",
        "\n",
        "In our farming scenario, we're interested in how average temperatures are changing over time. We don't have much interest in 1950 specifically, so for us, this is a better result. In other situations, of course, we might consider this result worse.\n",
        "\n",
        "\n",
        "## Summary\n",
        "\n",
        "In this exercise, you learned about how changing the cost function that's used during fitting can result in different final results.\n",
        "\n",
        "You also learned how this behavior happens because these cost functions describe the \"best\" way to fit a model. Although from a data analyst's point of view, there can be drawbacks no matter which cost function is chosen."
      ],
      "metadata": {
        "id": "VqHYbu2x4z8o"
      }
    }
  ]
}